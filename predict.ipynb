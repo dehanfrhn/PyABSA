{
 "cells": [
  {
   "cell_type": "code",
   "execution_count": 86,
   "metadata": {
    "collapsed": true
   },
   "outputs": [],
   "source": []
  },
  {
   "cell_type": "code",
   "execution_count": 102,
   "outputs": [
    {
     "name": "stdout",
     "output_type": "stream",
     "text": [
      "[2023-05-22 15:57:08] (2.3.1) Load aspect extractor from checkpoints/fast_lcf_atepc_attraction_cdm_apcacc_90.41_apcf1_85.05_atef1_87.16\n",
      "[2023-05-22 15:57:08] (2.3.1) config: checkpoints/fast_lcf_atepc_attraction_cdm_apcacc_90.41_apcf1_85.05_atef1_87.16\\fast_lcf_atepc.config\n",
      "[2023-05-22 15:57:08] (2.3.1) state_dict: checkpoints/fast_lcf_atepc_attraction_cdm_apcacc_90.41_apcf1_85.05_atef1_87.16\\fast_lcf_atepc.state_dict\n",
      "[2023-05-22 15:57:08] (2.3.1) model: None\n",
      "[2023-05-22 15:57:08] (2.3.1) tokenizer: checkpoints/fast_lcf_atepc_attraction_cdm_apcacc_90.41_apcf1_85.05_atef1_87.16\\fast_lcf_atepc.tokenizer\n",
      "[2023-05-22 15:57:08] (2.3.1) Set Model Device: cuda:0\n",
      "[2023-05-22 15:57:08] (2.3.1) Device Name: NVIDIA GeForce RTX 3070 Laptop GPU\n"
     ]
    },
    {
     "name": "stderr",
     "output_type": "stream",
     "text": [
      "Some weights of the model checkpoint at microsoft/deberta-v3-base were not used when initializing DebertaV2Model: ['lm_predictions.lm_head.LayerNorm.bias', 'lm_predictions.lm_head.bias', 'mask_predictions.LayerNorm.bias', 'lm_predictions.lm_head.dense.weight', 'mask_predictions.LayerNorm.weight', 'mask_predictions.dense.bias', 'lm_predictions.lm_head.dense.bias', 'mask_predictions.classifier.weight', 'lm_predictions.lm_head.LayerNorm.weight', 'mask_predictions.classifier.bias', 'mask_predictions.dense.weight']\n",
      "- This IS expected if you are initializing DebertaV2Model from the checkpoint of a model trained on another task or with another architecture (e.g. initializing a BertForSequenceClassification model from a BertForPreTraining model).\n",
      "- This IS NOT expected if you are initializing DebertaV2Model from the checkpoint of a model that you expect to be exactly identical (initializing a BertForSequenceClassification model from a BertForSequenceClassification model).\n",
      "Special tokens have been added in the vocabulary, make sure the associated word embeddings are fine-tuned or trained.\n",
      "C:\\Users\\LENOVO\\anaconda3\\envs\\PyABSA\\lib\\site-packages\\transformers\\convert_slow_tokenizer.py:454: UserWarning: The sentencepiece tokenizer that you are converting to a fast tokenizer uses the byte fallback option which is not implemented in the fast tokenizers. In practice this means that the fast version of the tokenizer can produce unknown tokens whereas the sentencepiece version would have converted these unknown tokens into a sequence of byte tokens matching the original piece of text.\n",
      "  warnings.warn(\n",
      "Special tokens have been added in the vocabulary, make sure the associated word embeddings are fine-tuned or trained.\n"
     ]
    },
    {
     "name": "stdout",
     "output_type": "stream",
     "text": [
      "[2023-05-22 15:57:15] (2.3.1) Load sentiment classifier from checkpoints/fast_lsa_t_v2_AttractionReviewEn_acc_90.51_f1_85.52\n",
      "[2023-05-22 15:57:15] (2.3.1) config: checkpoints/fast_lsa_t_v2_AttractionReviewEn_acc_90.51_f1_85.52\\fast_lsa_t_v2.config\n",
      "[2023-05-22 15:57:15] (2.3.1) state_dict: checkpoints/fast_lsa_t_v2_AttractionReviewEn_acc_90.51_f1_85.52\\fast_lsa_t_v2.state_dict\n",
      "[2023-05-22 15:57:15] (2.3.1) model: None\n",
      "[2023-05-22 15:57:15] (2.3.1) tokenizer: checkpoints/fast_lsa_t_v2_AttractionReviewEn_acc_90.51_f1_85.52\\fast_lsa_t_v2.tokenizer\n",
      "[2023-05-22 15:57:15] (2.3.1) Set Model Device: cuda:0\n",
      "[2023-05-22 15:57:15] (2.3.1) Device Name: NVIDIA GeForce RTX 3070 Laptop GPU\n"
     ]
    },
    {
     "name": "stderr",
     "output_type": "stream",
     "text": [
      "Some weights of the model checkpoint at yangheng/deberta-v3-base-absa-v1.1 were not used when initializing DebertaV2Model: ['classifier.weight', 'pooler.dense.weight', 'pooler.dense.bias', 'classifier.bias']\n",
      "- This IS expected if you are initializing DebertaV2Model from the checkpoint of a model trained on another task or with another architecture (e.g. initializing a BertForSequenceClassification model from a BertForPreTraining model).\n",
      "- This IS NOT expected if you are initializing DebertaV2Model from the checkpoint of a model that you expect to be exactly identical (initializing a BertForSequenceClassification model from a BertForSequenceClassification model).\n"
     ]
    }
   ],
   "source": [
    "from pyabsa import AspectTermExtraction as ATEPC\n",
    "# find a suitable checkpoint and use the name:\n",
    "aspect_extractor = ATEPC.AspectExtractor(\n",
    "    checkpoint=\"checkpoints/fast_lcf_atepc_attraction_cdm_apcacc_90.41_apcf1_85.05_atef1_87.16\",\n",
    ")\n",
    "\n",
    "from pyabsa import AspectPolarityClassification as APC\n",
    "# find a suitable checkpoint and use the name:\n",
    "sentiment_classifier = APC.SentimentClassifier(\n",
    "    checkpoint=\"checkpoints/fast_lsa_t_v2_AttractionReviewEn_acc_90.51_f1_85.52\"\n",
    ")"
   ],
   "metadata": {
    "collapsed": false
   }
  },
  {
   "cell_type": "code",
   "execution_count": 103,
   "outputs": [],
   "source": [
    "atepc_examples = [\n",
    "    \"But the staff was so nice to us .\",\n",
    "    \"But the staff was so horrible to us .\",\n",
    "    r\"Not only was the food outstanding , but the little ` perks \\' were great .\",\n",
    "    \"It took half an hour to get our check , which was perfect since we could sit , have drinks and talk !\",\n",
    "    \"It was pleasantly uncrowded , the service was delightful , the garden adorable , \"\n",
    "    \"the food -LRB- from appetizers to entrees -RRB- was delectable .\",\n",
    "    \"How pretentious and inappropriate for MJ Grill to claim that it provides power lunch and dinners !\",\n",
    "]"
   ],
   "metadata": {
    "collapsed": false
   }
  },
  {
   "cell_type": "code",
   "execution_count": 104,
   "outputs": [],
   "source": [
    "def extract_aspect(text):\n",
    "    text_aspect_extractor = aspect_extractor.predict(\n",
    "        text=text,\n",
    "        print_result=False,\n",
    "        ignore_error=True,\n",
    "        eval_batch_size=32,\n",
    "        pred_sentiment=False,\n",
    "        save_result=False,\n",
    "    )\n",
    "    return text_aspect_extractor\n",
    "\n",
    "def extract_aspects(texts):\n",
    "    texts_aspect_extractor = aspect_extractor.batch_predict(\n",
    "        target_file=texts,  # list of text\n",
    "        save_result=False,\n",
    "        print_result=False,  # print the result\n",
    "        pred_sentiment=False,  # Predict the sentiment of extracted aspect terms\n",
    "        )\n",
    "    return texts_aspect_extractor"
   ],
   "metadata": {
    "collapsed": false
   }
  },
  {
   "cell_type": "code",
   "execution_count": 90,
   "outputs": [],
   "source": [
    "text = 'But the staff was so nice to us .'\n",
    "result_aspect_extractor = extract_aspect(text)"
   ],
   "metadata": {
    "collapsed": false
   }
  },
  {
   "cell_type": "code",
   "execution_count": 91,
   "outputs": [
    {
     "data": {
      "text/plain": "{'sentence': 'But the staff was so nice to us .',\n 'IOB': ['O', 'O', 'B-ASP', 'O', 'O', 'O', 'O', 'O', 'O'],\n 'tokens': ['But', 'the', 'staff', 'was', 'so', 'nice', 'to', 'us', '.'],\n 'aspect': [],\n 'position': [],\n 'sentiment': [],\n 'probs': [],\n 'confidence': []}"
     },
     "execution_count": 91,
     "metadata": {},
     "output_type": "execute_result"
    }
   ],
   "source": [
    "result_aspect_extractor"
   ],
   "metadata": {
    "collapsed": false
   }
  },
  {
   "cell_type": "code",
   "execution_count": 62,
   "outputs": [],
   "source": [],
   "metadata": {
    "collapsed": false
   }
  },
  {
   "cell_type": "code",
   "execution_count": 131,
   "outputs": [],
   "source": [
    "reviews = [\n",
    "    \"But the staff was so nice to us .\",\n",
    "    \"But the staff was so horrible to us .\",\n",
    "    r\"Not only was the food outstanding , but the little ` perks \\' were great .\",\n",
    "    \"It took half an hour to get our check , which was perfect since we could sit , have drinks and talk !\",\n",
    "    \"It was pleasantly uncrowded , the service was delightful , the garden adorable , \"\n",
    "    \"the food -LRB- from appetizers to entrees -RRB- was delectable .\",\n",
    "    \"How pretentious and inappropriate for MJ Grill to claim that it provides power lunch and dinners !\",\n",
    "]\n",
    "\n",
    "result_aspect_extractor = extract_aspects(reviews)"
   ],
   "metadata": {
    "collapsed": false
   }
  },
  {
   "cell_type": "code",
   "execution_count": 132,
   "outputs": [],
   "source": [
    "def get_inference_format(extracted_aspect):\n",
    "    text = extracted_aspect\n",
    "    # find the index\n",
    "    idxs = []\n",
    "    IOB_LIST = text['IOB']\n",
    "    for i, tag in enumerate(IOB_LIST):\n",
    "        if tag == 'B-ASP':\n",
    "            idxs.append(i)\n",
    "\n",
    "    # add the tag\n",
    "    for idx in idxs:\n",
    "        token = text['tokens'][idx]\n",
    "        new_token = f'[B-ASP]{token}[E-ASP]'\n",
    "        text['tokens'][idx] = new_token\n",
    "    # convert to string\n",
    "    sentence = \" \".join(text['tokens'])\n",
    "    return sentence\n",
    "\n",
    "def get_inference_format_from_list(list_of_extracted_aspects):\n",
    "    inference_format = []\n",
    "    for row in list_of_extracted_aspects:\n",
    "        inference_format.append(get_inference_format(row))\n",
    "    return inference_format\n"
   ],
   "metadata": {
    "collapsed": false
   }
  },
  {
   "cell_type": "code",
   "execution_count": 133,
   "outputs": [],
   "source": [
    "inference_input = get_inference_format_from_list(result_aspect_extractor)"
   ],
   "metadata": {
    "collapsed": false
   }
  },
  {
   "cell_type": "code",
   "execution_count": 134,
   "outputs": [
    {
     "data": {
      "text/plain": "['But the [B-ASP]staff[E-ASP] was so nice to us .',\n 'But the [B-ASP]staff[E-ASP] was so horrible to us .',\n \"Not only was the [B-ASP]food[E-ASP] outstanding , but the little ` [B-ASP]perks[E-ASP] \\\\ ' were great .\",\n 'It took half an hour to get our [B-ASP]check[E-ASP] , which was perfect since we could sit , have [B-ASP]drinks[E-ASP] and talk !',\n 'It was pleasantly uncrowded , the [B-ASP]service[E-ASP] was delightful , the [B-ASP]garden[E-ASP] adorable , the [B-ASP]food[E-ASP] - LRB - from [B-ASP]appetizers[E-ASP] to [B-ASP]entrees[E-ASP] - RRB - was delectable .',\n 'How pretentious and inappropriate for MJ Grill to claim that it provides power [B-ASP]lunch[E-ASP] and [B-ASP]dinners[E-ASP] !']"
     },
     "execution_count": 134,
     "metadata": {},
     "output_type": "execute_result"
    }
   ],
   "source": [
    "inference_input"
   ],
   "metadata": {
    "collapsed": false
   }
  },
  {
   "cell_type": "markdown",
   "source": [
    "# predict the sentiment"
   ],
   "metadata": {
    "collapsed": false
   }
  },
  {
   "cell_type": "code",
   "execution_count": 139,
   "outputs": [],
   "source": [
    "def predict_sentiment_from_list(texts):\n",
    "    result_sentiment_classifier_list = []\n",
    "    for text in texts:\n",
    "        result_sentiment_classifier_list.append(predict_sentiment_from_text(text))\n",
    "    return result_sentiment_classifier_list\n"
   ],
   "metadata": {
    "collapsed": false
   }
  },
  {
   "cell_type": "code",
   "execution_count": 140,
   "outputs": [],
   "source": [
    "def predict_sentiment_from_text(text):\n",
    "    result_sentiment_classifier = sentiment_classifier.predict(\n",
    "        text=text,  # list of text\n",
    "        print_result=False,  # print the result\n",
    "        save_result=False,\n",
    "        ignore_error=True,\n",
    "    )\n",
    "    return result_sentiment_classifier"
   ],
   "metadata": {
    "collapsed": false
   }
  },
  {
   "cell_type": "code",
   "execution_count": 141,
   "outputs": [
    {
     "name": "stdout",
     "output_type": "stream",
     "text": [
      "[2023-05-22 16:12:01] (2.3.1) Warning: reference sentiment does not exist or its number 0 is not equal to aspect number 1, text: But the [B-ASP]staff[E-ASP] was so nice to us .\n",
      "[2023-05-22 16:12:01] (2.3.1) Warning: reference sentiment does not exist or its number 0 is not equal to aspect number 1, text: But the [B-ASP]staff[E-ASP] was so horrible to us .\n",
      "[2023-05-22 16:12:01] (2.3.1) Warning: reference sentiment does not exist or its number 0 is not equal to aspect number 2, text: Not only was the [B-ASP]food[E-ASP] outstanding , but the little ` [B-ASP]perks[E-ASP] \\ ' were great .\n",
      "[2023-05-22 16:12:01] (2.3.1) Warning: reference sentiment does not exist or its number 0 is not equal to aspect number 2, text: Not only was the [B-ASP]food[E-ASP] outstanding , but the little ` [B-ASP]perks[E-ASP] \\ ' were great .\n",
      "[2023-05-22 16:12:01] (2.3.1) Warning: reference sentiment does not exist or its number 0 is not equal to aspect number 2, text: It took half an hour to get our [B-ASP]check[E-ASP] , which was perfect since we could sit , have [B-ASP]drinks[E-ASP] and talk !\n",
      "[2023-05-22 16:12:01] (2.3.1) Warning: reference sentiment does not exist or its number 0 is not equal to aspect number 2, text: It took half an hour to get our [B-ASP]check[E-ASP] , which was perfect since we could sit , have [B-ASP]drinks[E-ASP] and talk !\n",
      "[2023-05-22 16:12:01] (2.3.1) Warning: reference sentiment does not exist or its number 0 is not equal to aspect number 5, text: It was pleasantly uncrowded , the [B-ASP]service[E-ASP] was delightful , the [B-ASP]garden[E-ASP] adorable , the [B-ASP]food[E-ASP] - LRB - from [B-ASP]appetizers[E-ASP] to [B-ASP]entrees[E-ASP] - RRB - was delectable .\n",
      "[2023-05-22 16:12:01] (2.3.1) Warning: reference sentiment does not exist or its number 0 is not equal to aspect number 5, text: It was pleasantly uncrowded , the [B-ASP]service[E-ASP] was delightful , the [B-ASP]garden[E-ASP] adorable , the [B-ASP]food[E-ASP] - LRB - from [B-ASP]appetizers[E-ASP] to [B-ASP]entrees[E-ASP] - RRB - was delectable .\n",
      "[2023-05-22 16:12:01] (2.3.1) Warning: reference sentiment does not exist or its number 0 is not equal to aspect number 5, text: It was pleasantly uncrowded , the [B-ASP]service[E-ASP] was delightful , the [B-ASP]garden[E-ASP] adorable , the [B-ASP]food[E-ASP] - LRB - from [B-ASP]appetizers[E-ASP] to [B-ASP]entrees[E-ASP] - RRB - was delectable .\n",
      "[2023-05-22 16:12:01] (2.3.1) Warning: reference sentiment does not exist or its number 0 is not equal to aspect number 5, text: It was pleasantly uncrowded , the [B-ASP]service[E-ASP] was delightful , the [B-ASP]garden[E-ASP] adorable , the [B-ASP]food[E-ASP] - LRB - from [B-ASP]appetizers[E-ASP] to [B-ASP]entrees[E-ASP] - RRB - was delectable .\n",
      "[2023-05-22 16:12:01] (2.3.1) Warning: reference sentiment does not exist or its number 0 is not equal to aspect number 5, text: It was pleasantly uncrowded , the [B-ASP]service[E-ASP] was delightful , the [B-ASP]garden[E-ASP] adorable , the [B-ASP]food[E-ASP] - LRB - from [B-ASP]appetizers[E-ASP] to [B-ASP]entrees[E-ASP] - RRB - was delectable .\n",
      "[2023-05-22 16:12:01] (2.3.1) Warning: reference sentiment does not exist or its number 0 is not equal to aspect number 2, text: How pretentious and inappropriate for MJ Grill to claim that it provides power [B-ASP]lunch[E-ASP] and [B-ASP]dinners[E-ASP] !\n",
      "[2023-05-22 16:12:01] (2.3.1) Warning: reference sentiment does not exist or its number 0 is not equal to aspect number 2, text: How pretentious and inappropriate for MJ Grill to claim that it provides power [B-ASP]lunch[E-ASP] and [B-ASP]dinners[E-ASP] !\n"
     ]
    }
   ],
   "source": [
    "result_sentiment_classifier = predict_sentiment_from_list(inference_input)"
   ],
   "metadata": {
    "collapsed": false
   }
  },
  {
   "cell_type": "code",
   "execution_count": 122,
   "outputs": [
    {
     "name": "stdout",
     "output_type": "stream",
     "text": [
      "[2023-05-22 16:00:55] (2.3.1) Warning: reference sentiment does not exist or its number 0 is not equal to aspect number 1, text:  [B-ASP]Global Sentiment[E-ASP] But the staff was so nice to us .\n"
     ]
    },
    {
     "data": {
      "text/plain": "{'text': 'But the staff was so nice to us .',\n 'aspect': ['Global Sentiment'],\n 'sentiment': ['Neutral'],\n 'confidence': [0.9901548624038696],\n 'probs': [array([0.0010755 , 0.99015486, 0.00876966], dtype=float32)],\n 'ref_sentiment': ['-100'],\n 'ref_check': [''],\n 'perplexity': 'N.A.'}"
     },
     "execution_count": 122,
     "metadata": {},
     "output_type": "execute_result"
    }
   ],
   "source": [
    "predict_sentiment_from_text('But the staff was so nice to us .')"
   ],
   "metadata": {
    "collapsed": false
   }
  },
  {
   "cell_type": "code",
   "execution_count": 142,
   "outputs": [
    {
     "data": {
      "text/plain": "[{'text': 'But the staff was so nice to us .',\n  'aspect': ['staff'],\n  'sentiment': ['Positive'],\n  'confidence': [0.9977874755859375],\n  'probs': [array([3.4973130e-04, 1.8627768e-03, 9.9778748e-01], dtype=float32)],\n  'ref_sentiment': ['-100'],\n  'ref_check': [''],\n  'perplexity': 'N.A.'},\n {'text': 'But the staff was so horrible to us .',\n  'aspect': ['staff'],\n  'sentiment': ['Negative'],\n  'confidence': [0.9980877041816711],\n  'probs': [array([9.9808770e-01, 9.1095280e-04, 1.0013955e-03], dtype=float32)],\n  'ref_sentiment': ['-100'],\n  'ref_check': [''],\n  'perplexity': 'N.A.'},\n {'text': \"Not only was the food outstanding , but the little ` perks \\\\ ' were great .\",\n  'aspect': ['food', 'perks'],\n  'sentiment': ['Positive', 'Positive'],\n  'confidence': [0.9975148439407349, 0.9981117248535156],\n  'probs': [array([3.3875060e-04, 2.1463740e-03, 9.9751484e-01], dtype=float32),\n   array([3.7347837e-04, 1.5147636e-03, 9.9811172e-01], dtype=float32)],\n  'ref_sentiment': ['-100', '-100'],\n  'ref_check': ['', ''],\n  'perplexity': 'N.A.'},\n {'text': 'It took half an hour to get our check , which was perfect since we could sit , have drinks and talk !',\n  'aspect': ['check', 'drinks'],\n  'sentiment': ['Positive', 'Neutral'],\n  'confidence': [0.664573073387146, 0.9944350719451904],\n  'probs': [array([0.0033915 , 0.33203548, 0.6645731 ], dtype=float32),\n   array([5.562524e-04, 9.944351e-01, 5.008679e-03], dtype=float32)],\n  'ref_sentiment': ['-100', '-100'],\n  'ref_check': ['', ''],\n  'perplexity': 'N.A.'},\n {'text': 'It was pleasantly uncrowded , the service was delightful , the garden adorable , the food - LRB - from appetizers to entrees - RRB - was delectable .',\n  'aspect': ['service', 'garden', 'food', 'appetizers', 'entrees'],\n  'sentiment': ['Positive', 'Positive', 'Positive', 'Neutral', 'Positive'],\n  'confidence': [0.9980066418647766,\n   0.9977893829345703,\n   0.9974117875099182,\n   0.9796153903007507,\n   0.98055499792099],\n  'probs': [array([3.1148130e-04, 1.6819147e-03, 9.9800664e-01], dtype=float32),\n   array([3.2304827e-04, 1.8875577e-03, 9.9778938e-01], dtype=float32),\n   array([1.5791951e-04, 2.4302802e-03, 9.9741179e-01], dtype=float32),\n   array([4.0328264e-04, 9.7961539e-01, 1.9981302e-02], dtype=float32),\n   array([2.3553603e-04, 1.9209441e-02, 9.8055500e-01], dtype=float32)],\n  'ref_sentiment': ['-100', '-100', '-100', '-100', '-100'],\n  'ref_check': ['', '', '', '', ''],\n  'perplexity': 'N.A.'},\n {'text': 'How pretentious and inappropriate for MJ Grill to claim that it provides power lunch and dinners !',\n  'aspect': ['lunch', 'dinners'],\n  'sentiment': ['Neutral', 'Neutral'],\n  'confidence': [0.9967051148414612, 0.9964989423751831],\n  'probs': [array([0.00115335, 0.9967051 , 0.00214155], dtype=float32),\n   array([0.00134647, 0.99649894, 0.00215461], dtype=float32)],\n  'ref_sentiment': ['-100', '-100'],\n  'ref_check': ['', ''],\n  'perplexity': 'N.A.'}]"
     },
     "execution_count": 142,
     "metadata": {},
     "output_type": "execute_result"
    }
   ],
   "source": [
    "result_sentiment_classifier"
   ],
   "metadata": {
    "collapsed": false
   }
  },
  {
   "cell_type": "code",
   "execution_count": 144,
   "outputs": [
    {
     "data": {
      "text/plain": "{'text': \"Not only was the food outstanding , but the little ` perks \\\\ ' were great .\",\n 'aspect': ['food', 'perks'],\n 'sentiment': ['Positive', 'Positive'],\n 'confidence': [0.9975148439407349, 0.9981117248535156],\n 'probs': [array([3.3875060e-04, 2.1463740e-03, 9.9751484e-01], dtype=float32),\n  array([3.7347837e-04, 1.5147636e-03, 9.9811172e-01], dtype=float32)],\n 'ref_sentiment': ['-100', '-100'],\n 'ref_check': ['', ''],\n 'perplexity': 'N.A.'}"
     },
     "execution_count": 144,
     "metadata": {},
     "output_type": "execute_result"
    }
   ],
   "source": [
    "result_sentiment_classifier[2]"
   ],
   "metadata": {
    "collapsed": false
   }
  },
  {
   "cell_type": "code",
   "execution_count": null,
   "outputs": [],
   "source": [],
   "metadata": {
    "collapsed": false
   }
  }
 ],
 "metadata": {
  "kernelspec": {
   "display_name": "Python 3",
   "language": "python",
   "name": "python3"
  },
  "language_info": {
   "codemirror_mode": {
    "name": "ipython",
    "version": 2
   },
   "file_extension": ".py",
   "mimetype": "text/x-python",
   "name": "python",
   "nbconvert_exporter": "python",
   "pygments_lexer": "ipython2",
   "version": "2.7.6"
  }
 },
 "nbformat": 4,
 "nbformat_minor": 0
}
