{
 "cells": [
  {
   "cell_type": "code",
   "execution_count": 1,
   "metadata": {
    "collapsed": true
   },
   "outputs": [],
   "source": [
    "import pandas as pd"
   ]
  },
  {
   "cell_type": "code",
   "execution_count": 8,
   "outputs": [],
   "source": [
    "with open ('Aspect-based Sentiment Classification.FAST_LSA_T_V2.result.json', 'r', encoding='utf-8') as f:\n",
    "    data = f.read()"
   ],
   "metadata": {
    "collapsed": false
   }
  },
  {
   "cell_type": "code",
   "execution_count": 14,
   "outputs": [],
   "source": [
    "data = data.replace('\\'', '\\\"')"
   ],
   "metadata": {
    "collapsed": false
   }
  },
  {
   "cell_type": "code",
   "execution_count": 32,
   "outputs": [],
   "source": [
    "data = pd.read_json('Aspect-based Sentiment Classification.FAST_LSA_T_V2.result.json')"
   ],
   "metadata": {
    "collapsed": false
   }
  },
  {
   "cell_type": "code",
   "execution_count": 33,
   "outputs": [
    {
     "data": {
      "text/plain": "                                                  text   \n0    its a nice activity to do and get a sense of t...  \\\n1    the zoo was beautiful . we had breakfast with ...   \n2    a very nice temple . with alot of naughty monk...   \n3    my partner and i trekked mount batur with bali...   \n4    nothing to worry about . if you do not want th...   \n..                                                 ...   \n685  awesome place to go for a little stroll . be s...   \n686  it is an odd place . the monkeys are always af...   \n687  this is a must for bali visitors . good price ...   \n688  this was the last stop on a half day tour that...   \n689  loved this experience , although you have to w...   \n\n                     aspect             sentiment   \n0         [activity, cafes]  [Positive, Positive]  \\\n1    [breakfast, elephants]  [Positive, Positive]   \n2         [temple, monkeys]  [Positive, Negative]   \n3      [guide mudi, driver]  [Positive, Positive]   \n4                    [food]             [Neutral]   \n..                      ...                   ...   \n685        [place, bananas]   [Positive, Neutral]   \n686               [monkeys]            [Negative]   \n687          [price, views]  [Positive, Positive]   \n688                [driver]            [Positive]   \n689         [monkeys, food]   [Negative, Neutral]   \n\n                                   confidence   \n0    [0.9993005990982051, 0.9991865754127501]  \\\n1     [0.647239089012146, 0.7999306321144101]   \n2    [0.9988025426864621, 0.7694513201713561]   \n3     [0.9993928670883171, 0.999361217021942]   \n4                        [0.8458727598190301]   \n..                                        ...   \n685    [0.999430119991302, 0.997405350208282]   \n686                       [0.981763184070587]   \n687  [0.9994478821754451, 0.9993509650230401]   \n688                       [0.999388337135314]   \n689   [0.998814702033996, 0.9990262985229491]   \n\n                                                 probs         ref_sentiment   \n0    [[1.4060699e-04 5.5876846e-04 9.9930060e-01], ...  [Positive, Positive]  \\\n1    [[0.00072701 0.35203385 0.6472391 ], [5.987942...   [Neutral, Positive]   \n2    [[1.8745629e-04 1.0100082e-03 9.9880254e-01], ...  [Positive, Negative]   \n3    [[1.07582906e-04 4.99501533e-04 9.99392867e-01...  [Positive, Positive]   \n4                 [[0.1528122  0.84587276 0.001315  ]]            [Negative]   \n..                                                 ...                   ...   \n685  [[1.2428337e-04 4.4557959e-04 9.9943012e-01], ...   [Positive, Neutral]   \n686               [[0.9817632  0.00609078 0.01214602]]            [Negative]   \n687  [[1.5590539e-04 3.9610363e-04 9.9944788e-01], ...  [Positive, Positive]   \n688      [[1.3553533e-04 4.7604222e-04 9.9938834e-01]]            [Positive]   \n689  [[9.9881470e-01 2.6581992e-04 9.1939420e-04], ...   [Negative, Neutral]   \n\n              ref_check perplexity  \n0    [Correct, Correct]       N.A.  \n1      [Wrong, Correct]       N.A.  \n2    [Correct, Correct]       N.A.  \n3    [Correct, Correct]       N.A.  \n4               [Wrong]       N.A.  \n..                  ...        ...  \n685  [Correct, Correct]       N.A.  \n686           [Correct]       N.A.  \n687  [Correct, Correct]       N.A.  \n688           [Correct]       N.A.  \n689  [Correct, Correct]       N.A.  \n\n[690 rows x 8 columns]",
      "text/html": "<div>\n<style scoped>\n    .dataframe tbody tr th:only-of-type {\n        vertical-align: middle;\n    }\n\n    .dataframe tbody tr th {\n        vertical-align: top;\n    }\n\n    .dataframe thead th {\n        text-align: right;\n    }\n</style>\n<table border=\"1\" class=\"dataframe\">\n  <thead>\n    <tr style=\"text-align: right;\">\n      <th></th>\n      <th>text</th>\n      <th>aspect</th>\n      <th>sentiment</th>\n      <th>confidence</th>\n      <th>probs</th>\n      <th>ref_sentiment</th>\n      <th>ref_check</th>\n      <th>perplexity</th>\n    </tr>\n  </thead>\n  <tbody>\n    <tr>\n      <th>0</th>\n      <td>its a nice activity to do and get a sense of t...</td>\n      <td>[activity, cafes]</td>\n      <td>[Positive, Positive]</td>\n      <td>[0.9993005990982051, 0.9991865754127501]</td>\n      <td>[[1.4060699e-04 5.5876846e-04 9.9930060e-01], ...</td>\n      <td>[Positive, Positive]</td>\n      <td>[Correct, Correct]</td>\n      <td>N.A.</td>\n    </tr>\n    <tr>\n      <th>1</th>\n      <td>the zoo was beautiful . we had breakfast with ...</td>\n      <td>[breakfast, elephants]</td>\n      <td>[Positive, Positive]</td>\n      <td>[0.647239089012146, 0.7999306321144101]</td>\n      <td>[[0.00072701 0.35203385 0.6472391 ], [5.987942...</td>\n      <td>[Neutral, Positive]</td>\n      <td>[Wrong, Correct]</td>\n      <td>N.A.</td>\n    </tr>\n    <tr>\n      <th>2</th>\n      <td>a very nice temple . with alot of naughty monk...</td>\n      <td>[temple, monkeys]</td>\n      <td>[Positive, Negative]</td>\n      <td>[0.9988025426864621, 0.7694513201713561]</td>\n      <td>[[1.8745629e-04 1.0100082e-03 9.9880254e-01], ...</td>\n      <td>[Positive, Negative]</td>\n      <td>[Correct, Correct]</td>\n      <td>N.A.</td>\n    </tr>\n    <tr>\n      <th>3</th>\n      <td>my partner and i trekked mount batur with bali...</td>\n      <td>[guide mudi, driver]</td>\n      <td>[Positive, Positive]</td>\n      <td>[0.9993928670883171, 0.999361217021942]</td>\n      <td>[[1.07582906e-04 4.99501533e-04 9.99392867e-01...</td>\n      <td>[Positive, Positive]</td>\n      <td>[Correct, Correct]</td>\n      <td>N.A.</td>\n    </tr>\n    <tr>\n      <th>4</th>\n      <td>nothing to worry about . if you do not want th...</td>\n      <td>[food]</td>\n      <td>[Neutral]</td>\n      <td>[0.8458727598190301]</td>\n      <td>[[0.1528122  0.84587276 0.001315  ]]</td>\n      <td>[Negative]</td>\n      <td>[Wrong]</td>\n      <td>N.A.</td>\n    </tr>\n    <tr>\n      <th>...</th>\n      <td>...</td>\n      <td>...</td>\n      <td>...</td>\n      <td>...</td>\n      <td>...</td>\n      <td>...</td>\n      <td>...</td>\n      <td>...</td>\n    </tr>\n    <tr>\n      <th>685</th>\n      <td>awesome place to go for a little stroll . be s...</td>\n      <td>[place, bananas]</td>\n      <td>[Positive, Neutral]</td>\n      <td>[0.999430119991302, 0.997405350208282]</td>\n      <td>[[1.2428337e-04 4.4557959e-04 9.9943012e-01], ...</td>\n      <td>[Positive, Neutral]</td>\n      <td>[Correct, Correct]</td>\n      <td>N.A.</td>\n    </tr>\n    <tr>\n      <th>686</th>\n      <td>it is an odd place . the monkeys are always af...</td>\n      <td>[monkeys]</td>\n      <td>[Negative]</td>\n      <td>[0.981763184070587]</td>\n      <td>[[0.9817632  0.00609078 0.01214602]]</td>\n      <td>[Negative]</td>\n      <td>[Correct]</td>\n      <td>N.A.</td>\n    </tr>\n    <tr>\n      <th>687</th>\n      <td>this is a must for bali visitors . good price ...</td>\n      <td>[price, views]</td>\n      <td>[Positive, Positive]</td>\n      <td>[0.9994478821754451, 0.9993509650230401]</td>\n      <td>[[1.5590539e-04 3.9610363e-04 9.9944788e-01], ...</td>\n      <td>[Positive, Positive]</td>\n      <td>[Correct, Correct]</td>\n      <td>N.A.</td>\n    </tr>\n    <tr>\n      <th>688</th>\n      <td>this was the last stop on a half day tour that...</td>\n      <td>[driver]</td>\n      <td>[Positive]</td>\n      <td>[0.999388337135314]</td>\n      <td>[[1.3553533e-04 4.7604222e-04 9.9938834e-01]]</td>\n      <td>[Positive]</td>\n      <td>[Correct]</td>\n      <td>N.A.</td>\n    </tr>\n    <tr>\n      <th>689</th>\n      <td>loved this experience , although you have to w...</td>\n      <td>[monkeys, food]</td>\n      <td>[Negative, Neutral]</td>\n      <td>[0.998814702033996, 0.9990262985229491]</td>\n      <td>[[9.9881470e-01 2.6581992e-04 9.1939420e-04], ...</td>\n      <td>[Negative, Neutral]</td>\n      <td>[Correct, Correct]</td>\n      <td>N.A.</td>\n    </tr>\n  </tbody>\n</table>\n<p>690 rows × 8 columns</p>\n</div>"
     },
     "execution_count": 33,
     "metadata": {},
     "output_type": "execute_result"
    }
   ],
   "source": [
    "data"
   ],
   "metadata": {
    "collapsed": false
   }
  },
  {
   "cell_type": "code",
   "execution_count": 34,
   "outputs": [
    {
     "data": {
      "text/plain": "                                                  text   \n1    the zoo was beautiful . we had breakfast with ...  \\\n4    nothing to worry about . if you do not want th...   \n6    we went today to mt . batung sunrise , along w...   \n17   we had an amazing day as a family with a young...   \n41   this is a tourist set up so go early before th...   \n..                                                 ...   \n658  you have to pay for the some local coffee shop...   \n659  great experience . take your bathers if you wi...   \n667  i brought a 2 day pass online and was happy wi...   \n674  this was the first place we visited in ubud an...   \n680                        it has a must bring water !   \n\n                     ref_check                        aspect   \n1             [Wrong, Correct]        [breakfast, elephants]  \\\n4                      [Wrong]                        [food]   \n6    [Correct, Wrong, Correct]        [path, scenery, music]   \n17   [Wrong, Correct, Correct]  [ground, entry price, entry]   \n41              [Wrong, Wrong]                [hour, photos]   \n..                         ...                           ...   \n658  [Correct, Wrong, Correct]        [coffee, costs, drink]   \n659                    [Wrong]          [water purification]   \n667                    [Wrong]                     [tickets]   \n674           [Correct, Wrong]             [forest, monkeys]   \n680                    [Wrong]                       [water]   \n\n                      ref_sentiment                       sentiment   \n1               [Neutral, Positive]            [Positive, Positive]  \\\n4                        [Negative]                       [Neutral]   \n6    [Negative, Negative, Negative]  [Negative, Positive, Negative]   \n17   [Positive, Negative, Negative]  [Negative, Negative, Negative]   \n41             [Negative, Negative]            [Positive, Positive]   \n..                              ...                             ...   \n658     [Neutral, Neutral, Neutral]    [Neutral, Negative, Neutral]   \n659                      [Positive]                       [Neutral]   \n667                      [Positive]                       [Neutral]   \n674             [Positive, Neutral]            [Positive, Positive]   \n680                       [Neutral]                      [Positive]   \n\n                                            confidence  \n1              [0.647239089012146, 0.7999306321144101]  \n4                                 [0.8458727598190301]  \n6    [0.996020376682281, 0.978103876113891, 0.97773...  \n17   [0.9881978631019591, 0.9983269572257991, 0.997...  \n41              [0.677262663841247, 0.998484313488006]  \n..                                                 ...  \n658  [0.9941847920417781, 0.8210533857345581, 0.998...  \n659                               [0.9991216063499451]  \n667                               [0.9962294697761531]  \n674           [0.9989680051803581, 0.9992254972457881]  \n680                               [0.9582765102386471]  \n\n[83 rows x 6 columns]",
      "text/html": "<div>\n<style scoped>\n    .dataframe tbody tr th:only-of-type {\n        vertical-align: middle;\n    }\n\n    .dataframe tbody tr th {\n        vertical-align: top;\n    }\n\n    .dataframe thead th {\n        text-align: right;\n    }\n</style>\n<table border=\"1\" class=\"dataframe\">\n  <thead>\n    <tr style=\"text-align: right;\">\n      <th></th>\n      <th>text</th>\n      <th>ref_check</th>\n      <th>aspect</th>\n      <th>ref_sentiment</th>\n      <th>sentiment</th>\n      <th>confidence</th>\n    </tr>\n  </thead>\n  <tbody>\n    <tr>\n      <th>1</th>\n      <td>the zoo was beautiful . we had breakfast with ...</td>\n      <td>[Wrong, Correct]</td>\n      <td>[breakfast, elephants]</td>\n      <td>[Neutral, Positive]</td>\n      <td>[Positive, Positive]</td>\n      <td>[0.647239089012146, 0.7999306321144101]</td>\n    </tr>\n    <tr>\n      <th>4</th>\n      <td>nothing to worry about . if you do not want th...</td>\n      <td>[Wrong]</td>\n      <td>[food]</td>\n      <td>[Negative]</td>\n      <td>[Neutral]</td>\n      <td>[0.8458727598190301]</td>\n    </tr>\n    <tr>\n      <th>6</th>\n      <td>we went today to mt . batung sunrise , along w...</td>\n      <td>[Correct, Wrong, Correct]</td>\n      <td>[path, scenery, music]</td>\n      <td>[Negative, Negative, Negative]</td>\n      <td>[Negative, Positive, Negative]</td>\n      <td>[0.996020376682281, 0.978103876113891, 0.97773...</td>\n    </tr>\n    <tr>\n      <th>17</th>\n      <td>we had an amazing day as a family with a young...</td>\n      <td>[Wrong, Correct, Correct]</td>\n      <td>[ground, entry price, entry]</td>\n      <td>[Positive, Negative, Negative]</td>\n      <td>[Negative, Negative, Negative]</td>\n      <td>[0.9881978631019591, 0.9983269572257991, 0.997...</td>\n    </tr>\n    <tr>\n      <th>41</th>\n      <td>this is a tourist set up so go early before th...</td>\n      <td>[Wrong, Wrong]</td>\n      <td>[hour, photos]</td>\n      <td>[Negative, Negative]</td>\n      <td>[Positive, Positive]</td>\n      <td>[0.677262663841247, 0.998484313488006]</td>\n    </tr>\n    <tr>\n      <th>...</th>\n      <td>...</td>\n      <td>...</td>\n      <td>...</td>\n      <td>...</td>\n      <td>...</td>\n      <td>...</td>\n    </tr>\n    <tr>\n      <th>658</th>\n      <td>you have to pay for the some local coffee shop...</td>\n      <td>[Correct, Wrong, Correct]</td>\n      <td>[coffee, costs, drink]</td>\n      <td>[Neutral, Neutral, Neutral]</td>\n      <td>[Neutral, Negative, Neutral]</td>\n      <td>[0.9941847920417781, 0.8210533857345581, 0.998...</td>\n    </tr>\n    <tr>\n      <th>659</th>\n      <td>great experience . take your bathers if you wi...</td>\n      <td>[Wrong]</td>\n      <td>[water purification]</td>\n      <td>[Positive]</td>\n      <td>[Neutral]</td>\n      <td>[0.9991216063499451]</td>\n    </tr>\n    <tr>\n      <th>667</th>\n      <td>i brought a 2 day pass online and was happy wi...</td>\n      <td>[Wrong]</td>\n      <td>[tickets]</td>\n      <td>[Positive]</td>\n      <td>[Neutral]</td>\n      <td>[0.9962294697761531]</td>\n    </tr>\n    <tr>\n      <th>674</th>\n      <td>this was the first place we visited in ubud an...</td>\n      <td>[Correct, Wrong]</td>\n      <td>[forest, monkeys]</td>\n      <td>[Positive, Neutral]</td>\n      <td>[Positive, Positive]</td>\n      <td>[0.9989680051803581, 0.9992254972457881]</td>\n    </tr>\n    <tr>\n      <th>680</th>\n      <td>it has a must bring water !</td>\n      <td>[Wrong]</td>\n      <td>[water]</td>\n      <td>[Neutral]</td>\n      <td>[Positive]</td>\n      <td>[0.9582765102386471]</td>\n    </tr>\n  </tbody>\n</table>\n<p>83 rows × 6 columns</p>\n</div>"
     },
     "execution_count": 34,
     "metadata": {},
     "output_type": "execute_result"
    }
   ],
   "source": [
    "# if refcheck containe wrong then label wrong\n",
    "final_df = data[data['ref_sentiment'] != data['sentiment']][['text', 'ref_check','aspect', 'ref_sentiment', 'sentiment', 'confidence']]\n",
    "final_df"
   ],
   "metadata": {
    "collapsed": false
   }
  },
  {
   "cell_type": "code",
   "execution_count": 35,
   "outputs": [
    {
     "data": {
      "text/plain": "Index(['text', 'aspect', 'sentiment', 'confidence', 'probs', 'ref_sentiment',\n       'ref_check', 'perplexity'],\n      dtype='object')"
     },
     "execution_count": 35,
     "metadata": {},
     "output_type": "execute_result"
    }
   ],
   "source": [
    "data.columns"
   ],
   "metadata": {
    "collapsed": false
   }
  },
  {
   "cell_type": "code",
   "execution_count": 27,
   "outputs": [
    {
     "data": {
      "text/plain": "text             menghabiskan sekitar 2 jam di hutan yang berge...\naspect                                   [parkir, tempat, panduan]\nsentiment                           [Positive, Positive, Positive]\nconfidence       [0.596572995185852, 0.5085213184356691, 0.9951...\nprobs            [[0.35413396 0.04929299 0.596573  ], [0.251253...\nref_sentiment                       [Positive, Negative, Positive]\nref_check                                [Correct, Wrong, Correct]\nperplexity                                                    N.A.\nName: 3, dtype: object"
     },
     "execution_count": 27,
     "metadata": {},
     "output_type": "execute_result"
    }
   ],
   "source": [
    "# find data with index\n",
    "data.iloc[3]"
   ],
   "metadata": {
    "collapsed": false
   }
  },
  {
   "cell_type": "code",
   "execution_count": 28,
   "outputs": [
    {
     "data": {
      "text/plain": "'menghabiskan sekitar 2 jam di hutan yang bergerak di sekitar dan menjelajahi berbagai bagian dari tempat. iya itu sedikit menakutkan dan setelah anda menonton karena mereka memiliki makanan yang duduk di bahu anda dan makan dan pergi. untungnya ada banyak panduan yang membuat anda aman parkir .'"
     },
     "execution_count": 28,
     "metadata": {},
     "output_type": "execute_result"
    }
   ],
   "source": [
    "data.iloc[3]['text']"
   ],
   "metadata": {
    "collapsed": false
   }
  },
  {
   "cell_type": "code",
   "execution_count": 36,
   "outputs": [],
   "source": [
    "final_df.to_excel('Aspect-based Sentiment Classification.FAST_LSA_T_V2.result.xlsx')"
   ],
   "metadata": {
    "collapsed": false
   }
  },
  {
   "cell_type": "code",
   "execution_count": null,
   "outputs": [],
   "source": [],
   "metadata": {
    "collapsed": false
   }
  }
 ],
 "metadata": {
  "kernelspec": {
   "display_name": "Python 3",
   "language": "python",
   "name": "python3"
  },
  "language_info": {
   "codemirror_mode": {
    "name": "ipython",
    "version": 2
   },
   "file_extension": ".py",
   "mimetype": "text/x-python",
   "name": "python",
   "nbconvert_exporter": "python",
   "pygments_lexer": "ipython2",
   "version": "2.7.6"
  }
 },
 "nbformat": 4,
 "nbformat_minor": 0
}
